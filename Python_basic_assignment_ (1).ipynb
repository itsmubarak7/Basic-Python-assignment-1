{
  "nbformat": 4,
  "nbformat_minor": 0,
  "metadata": {
    "colab": {
      "provenance": []
    },
    "kernelspec": {
      "name": "python3",
      "display_name": "Python 3"
    },
    "language_info": {
      "name": "python"
    }
  },
  "cells": [
    {
      "cell_type": "markdown",
      "source": [
        "#1. What is Python, and why is it popular ?\n",
        "\n",
        "Python is a programming language  and it is popular due its easy and simple syntax.\n",
        "\n",
        "\n",
        "#2. What is an interpreter in Python ?\n",
        "\n",
        "Interpretor is basically a language transmitor, used to convert one langauage to another.\n",
        "\n",
        "#3. What are pre-defined keywords in Python ?\n",
        "\n",
        "Pre-defined Keyword is basically a value defined to a key . it returns the value when it call.\n",
        "\n",
        "#4. Can keywords be used as variable name ?\n",
        "\n",
        "No, keyword can't be used as veriable name because keyword is defined as a special meaning.\n",
        "\n",
        "#5. What is mutability in Python ?\n",
        "\n",
        "Mutability refers to those values which can be change or modified as per required.\n",
        "\n",
        "#6. Why are lists mutable, but tuples are immutable ?\n",
        "\n",
        "Lists are mutable because we can add or modify elements but tuples are immutable because it restricts to add or modify element.\n",
        "\n",
        "#7. What is the difference between “==” and “is” operators in Python ?\n",
        "\n",
        "Both \"==\" and \"is\" conditional operator, if conditions are met it return true or false but have following differences-\n",
        "     \"==\" have no unique memory location but \"is\" have unique memory location\n",
        "\n",
        "#8. What are logical operators in Python ?\n",
        "   \n",
        "logical operators return boolean value ( 'true' or 'false' ) if condition or logic met .\n",
        "   - there are 3 logical operators ( and, or, not ).\n",
        "\n",
        "#9 What is type casting in Python ?\n",
        "\n",
        "Type casting refers to type conversion from one data type to other.\n",
        "  -for example : int-string, string-int, int-float, etc.\n",
        "\n",
        "#10. What is the difference between implicit and explicit type casting ?\n",
        "  \n",
        "Implicit type casting done by complier itself whereas explicit conversion refers to casting where it is done by programmer .\n",
        "\n",
        "#11. What is the purpose of conditional statements in Python ?\n",
        "\n",
        "Conditional statements are used in python code to check and return a value if condition is true or false .\n",
        "- It helps to solve repetitive work.\n",
        "\n",
        "#12. How does the elif statement work ?\n",
        "\n",
        "The elif statement in Python stands for \"else if\" and is used to check multiple conditions in a structure way.\n",
        "\n",
        "for example:\n",
        "             \n",
        "             if i > 10:\n",
        "             print ('this is cool')\n",
        "             elif i > 20:       #this runs only is condition 1 is false.\n",
        "             print ('this is warm')\n",
        "             else:       #this runs only is condition 2 is false.\n",
        "             print ('this is hotter')\n",
        "\n",
        "\n",
        "#13. What is the difference between for and while loops ?\n",
        "\n",
        "Both for and while loop runs to operate iteration works where for loop works on the principle where number of iteration is known and while loop run until conditions met true it will stop when condition return false .\n",
        "\n",
        "#14. Describe a scenario where a while loop is more suitable than a for loop.\n",
        "        \n",
        "While loop is more suitable where we have to check multiple number of possibilities ( when number of iteration is unknown ).\n",
        "\n",
        "for example: User input validation.\n",
        "\n",
        "      password =\"\"\n",
        "      while password !=\"its07\"\n",
        "      password= input ('enter your password:')\n",
        "      if password==password:\n",
        "      print ('access granted')\n",
        "      else:\n",
        "      print ('re-enter password')\n",
        "\n",
        "\n",
        "\n",
        "\n"
      ],
      "metadata": {
        "id": "AaOnynUIXvzP"
      }
    },
    {
      "cell_type": "code",
      "source": [
        "#1 Write a Python program to print \"Hello, World!\"\n",
        "\n",
        "x= \"Hello, World!\"\n",
        "print (x)"
      ],
      "metadata": {
        "collapsed": true,
        "id": "6V2oOSoSY_7n"
      },
      "execution_count": null,
      "outputs": []
    },
    {
      "cell_type": "code",
      "source": [
        "#2 Write a Python program that displays your name and age ?\n",
        "\n",
        "name=\"mubarak\"\n",
        "age=23\n",
        "\n",
        "print (\"my name is\", (name))\n",
        "print (\"my age is\", (age))"
      ],
      "metadata": {
        "id": "ka_KQvTRaYqk"
      },
      "execution_count": null,
      "outputs": []
    },
    {
      "cell_type": "code",
      "source": [
        "#3 Write code to print all the pre-defined keywords in Python using the keyword library ?\n",
        "\n",
        "import keyword\n",
        "\n",
        "print (keyword.kwlist)"
      ],
      "metadata": {
        "id": "pGwgwQ8TagYe"
      },
      "execution_count": null,
      "outputs": []
    },
    {
      "cell_type": "code",
      "source": [
        "#4 Write a program that checks if a given word is a Python keyword ?\n",
        "\n",
        "import keyword\n",
        "\n",
        "# Get input from the user\n",
        "word = input(\"Enter a word to check: \")\n",
        "\n",
        "# Check if the word is a Python keyword\n",
        "if keyword.iskeyword(word):\n",
        "    print(f\"'{word}' is a Python keyword.\")\n",
        "else:\n",
        "    print(f\"'{word}' is not a Python keyword.\")"
      ],
      "metadata": {
        "id": "ccMR2atuak3c"
      },
      "execution_count": null,
      "outputs": []
    },
    {
      "cell_type": "code",
      "source": [
        "#5 Create a list and tuple in Python, and demonstrate how attempting to change an element works differently for each ?\n",
        "\n",
        "\n",
        "my_list = [10, 20, 30]  # creating a list\n",
        "print(\"Original List:\", my_list)\n",
        "\n",
        "my_list[1] = 50\n",
        "print(\"Modified List:\", my_list)\n",
        "\n",
        "\n",
        "# Creating a tuple (Immutable)\n",
        "my_tuple = (10, 20, 30)\n",
        "print(\"\\nOriginal Tuple:\", my_tuple)\n",
        "\n",
        "# Attempting to modify an element in the tuple\n",
        "try:\n",
        "    my_tuple[1] = 50  # This will cause an error\n",
        "except TypeError as e:\n",
        "    print(\"Error:\", e)\n"
      ],
      "metadata": {
        "id": "w5flYfDSapXZ"
      },
      "execution_count": null,
      "outputs": []
    },
    {
      "cell_type": "code",
      "source": [
        "#6 Write a function to demonstrate the behavior of mutable and immutable arguments ?\n",
        "\n",
        "\n",
        "def demonstrate_mutability(mutable_arg, immutable_arg):\n",
        "    \"\"\"Demonstrates the behavior of mutable and immutable arguments.\"\"\"\n",
        "\n",
        "    mutable_arg.append(4)  # Modifies the original list\n",
        "    print(\"Inside function (mutable):\", mutable_arg)\n",
        "\n",
        "    immutable_arg = immutable_arg + (4,)  # Creates a new tuple\n",
        "    print(\"Inside function (immutable):\", immutable_arg)\n",
        "\n",
        "\n",
        "# Example usage:\n",
        "my_list = [1, 2, 3]\n",
        "my_tuple = (1, 2, 3)\n",
        "\n",
        "demonstrate_mutability(my_list, my_tuple)\n",
        "\n",
        "print(\"Outside function (mutable):\", my_list)  # Original list is modified\n",
        "print(\"Outside function (immutable):\", my_tuple)  # Original tuple remains unchanged\n",
        "\n"
      ],
      "metadata": {
        "id": "SQRE6fGu1g7e"
      },
      "execution_count": null,
      "outputs": []
    },
    {
      "cell_type": "code",
      "source": [
        "#8 Write a program to demonstrate the use of logical operators ?\n",
        "\n",
        "# AND operator\n",
        "\n",
        "x = 10\n",
        "y = 20\n",
        "print(x > 5 and y < 30)  # True (Both conditions are True)\n",
        "print(x > 15 and y < 30) # False (One condition is False)\n",
        "\n",
        "#OR operator\n",
        "\n",
        "x = 10\n",
        "y = 20\n",
        "print(x > 15 or y < 30)  # True (One condition is True)\n",
        "print(x > 15 or y > 30)  # False (Both conditions are False)\n",
        "\n",
        "# NOT operator\n",
        "\n",
        "x = True\n",
        "print(not x)   # False (Negates True)\n",
        "print(not (10 > 5))  # False (Negates True)\n"
      ],
      "metadata": {
        "id": "v8TXBXAW6m1j"
      },
      "execution_count": null,
      "outputs": []
    },
    {
      "cell_type": "code",
      "source": [
        "#9 Write a Python program to convert user input from string to integer, float, and boolean types ?\n",
        "\n",
        "def convert_input(user_input):\n",
        "    \"\"\"Convert input string to integer, float, and boolean.\"\"\"\n",
        "    try:\n",
        "        int_value = int(user_input)  # Try converting to integer\n",
        "        print(f\"Integer: {int_value}\")\n",
        "    except ValueError:\n",
        "        print(\"Cannot convert to Integer\")\n",
        "\n",
        "    try:\n",
        "        float_value = float(user_input)  # Try converting to float\n",
        "        print(f\"Float: {float_value}\")\n",
        "    except ValueError:\n",
        "        print(\"Cannot convert to Float\")\n",
        "\n",
        "    # Convert to boolean (Non-empty strings are True, \"0\" is False)\n",
        "    bool_value = bool(user_input and user_input.lower() != \"false\")\n",
        "    print(f\"Boolean: {bool_value}\")\n",
        "\n",
        "# Taking user input\n",
        "user_input = input(\"Enter a value: \")\n",
        "convert_input(user_input)\n",
        "\n",
        "\n"
      ],
      "metadata": {
        "id": "0EgZllMARxJH"
      },
      "execution_count": null,
      "outputs": []
    },
    {
      "cell_type": "code",
      "source": [
        "#10 Write code to demonstrate type casting with list elements ?\n",
        "\n",
        "my_list = [10, \"20\", 30.5, \"40.7\"]\n",
        "\n",
        "# Convert all string elements to integers\n",
        "for i in range(len(my_list)):\n",
        "    if isinstance(my_list[i], str):\n",
        "        try:\n",
        "            my_list[i] = int(my_list[i])\n",
        "        except ValueError:\n",
        "            try:\n",
        "              my_list[i] = float(my_list[i])\n",
        "            except ValueError:\n",
        "              print(f\"Skipping invalid string element: {my_list[i]}\")\n",
        "print(f\"Modified List : {my_list}\")\n",
        "\n",
        "# Convert all elements to string\n",
        "string_list = [str(element) for element in my_list]\n",
        "print(f\"String list: {string_list}\")\n",
        "\n",
        "# Convert all elements to float (handling potential errors)\n",
        "float_list = []\n",
        "for element in my_list:\n",
        "    try:\n",
        "        float_list.append(float(element))\n",
        "    except (ValueError, TypeError):\n",
        "        print(f\"Could not convert element {element} to float. Skipping.\")\n",
        "print(f\"Float list: {float_list}\")\n"
      ],
      "metadata": {
        "id": "qam5UYyzWV4_"
      },
      "execution_count": null,
      "outputs": []
    },
    {
      "cell_type": "code",
      "source": [
        "#11 Write a program that checks if a number is positive, negative, or zero0\n",
        "\n",
        "def check_number(number):\n",
        "    if number > 0:\n",
        "        print(\"Positive\")\n",
        "    elif number < 0:\n",
        "        print(\"Negative\")\n",
        "    else:\n",
        "        print(\"Zero\")\n"
      ],
      "metadata": {
        "id": "BHAckenZahE6"
      },
      "execution_count": null,
      "outputs": []
    },
    {
      "cell_type": "code",
      "source": [
        "#12 Write a for loop to print numbers from 1 to 100 ?\n",
        "\n",
        "for i in range (1,101):\n",
        "  print (i)"
      ],
      "metadata": {
        "id": "lFJWRy7Gampq"
      },
      "execution_count": null,
      "outputs": []
    },
    {
      "cell_type": "code",
      "source": [
        "#13 Write a Python program to find the sum of all even numbers between 1 and 50 ?\n",
        "\n",
        "sum_of_even = 0\n",
        "for number in range(1, 51):\n",
        "    if number % 2 == 0:\n",
        "        sum_of_even += number"
      ],
      "metadata": {
        "id": "TrxdP0E0ehqc"
      },
      "execution_count": 17,
      "outputs": []
    },
    {
      "cell_type": "code",
      "source": [
        "#14 Write a program to reverse a string using a while loop ?\n",
        "\n",
        "def reverse_string_while(input_string):\n",
        "    reversed_string = \"\"\n",
        "    index = len(input_string) - 1\n",
        "    while index >= 0:\n",
        "        reversed_string += input_string[index]\n",
        "        index -= 1\n",
        "    return reversed_string\n",
        "\n",
        "# Example usage\n",
        "string_to_reverse = \"hello\"\n",
        "reversed_string = reverse_string_while(string_to_reverse)\n",
        "print(f\"Reversed string: {reversed_string}\")\n"
      ],
      "metadata": {
        "id": "ddUJioCdewHH"
      },
      "execution_count": null,
      "outputs": []
    },
    {
      "cell_type": "code",
      "source": [
        "#15 Write a Python program to calculate the factorial of a number provided by the user using a while loop ?\n",
        "\n",
        "def factorial_while(n):\n",
        "    if n < 0:\n",
        "        return \"Factorial is not defined for negative numbers\"\n",
        "    elif n == 0:\n",
        "        return 1\n",
        "    else:\n",
        "        fact = 1\n",
        "        i = 1\n",
        "        while i <= n:\n",
        "            fact *= i\n",
        "            i += 1\n",
        "        return fact\n",
        "\n",
        "# Get input from the user\n",
        "num = int(input(\"Enter a non-negative integer: \"))\n",
        "\n",
        "# Calculate and print the factorial\n",
        "result = factorial_while(num)\n",
        "print(f\"The factorial of {num} is {result}\")"
      ],
      "metadata": {
        "colab": {
          "base_uri": "https://localhost:8080/"
        },
        "id": "P1crCwaVfGnX",
        "outputId": "128fad5f-f316-477b-c457-b7ca4ec941ff"
      },
      "execution_count": 19,
      "outputs": [
        {
          "output_type": "stream",
          "name": "stdout",
          "text": [
            "Enter a non-negative integer: 4\n",
            "The factorial of 4 is 24\n"
          ]
        }
      ]
    },
    {
      "cell_type": "code",
      "source": [],
      "metadata": {
        "id": "wLozt2AqfZEK"
      },
      "execution_count": null,
      "outputs": []
    }
  ]
}